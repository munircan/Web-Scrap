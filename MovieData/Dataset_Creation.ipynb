{
 "metadata": {
  "language_info": {
   "codemirror_mode": {
    "name": "ipython",
    "version": 3
   },
   "file_extension": ".py",
   "mimetype": "text/x-python",
   "name": "python",
   "nbconvert_exporter": "python",
   "pygments_lexer": "ipython3",
   "version": "3.9.0-final"
  },
  "orig_nbformat": 2,
  "kernelspec": {
   "name": "python3",
   "display_name": "Python 3"
  }
 },
 "nbformat": 4,
 "nbformat_minor": 2,
 "cells": [
  {
   "cell_type": "code",
   "execution_count": 2,
   "metadata": {},
   "outputs": [],
   "source": [
    "from bs4 import BeautifulSoup as bs\n",
    "import requests"
   ]
  },
  {
   "source": [
    "#### Task 1 : Get Info Box"
   ],
   "cell_type": "markdown",
   "metadata": {}
  },
  {
   "cell_type": "code",
   "execution_count": 3,
   "metadata": {
    "tags": []
   },
   "outputs": [],
   "source": [
    "#r = requests.get(\"https://en.wikipedia.org/wiki/Toy_Story_3\")\n",
    "\n",
    "#Convert to a beautiful soup object\n",
    "#soup = bs(r.content)\n",
    "\n",
    "#Print the HTML\n",
    "#contents = soup.prettify()"
   ]
  },
  {
   "cell_type": "code",
   "execution_count": 4,
   "metadata": {},
   "outputs": [],
   "source": [
    "#info_box = soup.find(class_='infobox vevent')\n",
    "#info_rows = info_box.find_all('tr')\n",
    "#for row in info_rows:\n",
    "#    print(row.prettify())"
   ]
  },
  {
   "cell_type": "code",
   "execution_count": 5,
   "metadata": {},
   "outputs": [],
   "source": [
    "\n",
    "# def get_content_value(row_data):\n",
    "#    if row_data.find(\"li\"):\n",
    "#        return [li.get_text(\" \",strip=True).replace(\"\\xa0\",\" \") for li in row_data.find_all(\"li\")]\n",
    "#    else:\n",
    "#        return row_data.get_text(\" \",strip=True).replace(\"\\xa0\",\" \")\n",
    "#\n",
    "#movie_info = {}\n",
    "#for index, row in enumerate(info_rows):\n",
    "#    if index == 0:\n",
    "#        movie_info['Title'] = row.find(\"th\").get_text(\" \",strip=True)\n",
    "#    elif index == 1:\n",
    "#        continue\n",
    "#    else:\n",
    "#        content_key = row.find('th').get_text(\" \",strip=True)\n",
    "#        content_value = get_content_value(row.find('td'))\n",
    "#        movie_info[content_key] = content_value\n",
    "#\n",
    "#movie_info "
   ]
  },
  {
   "source": [
    "#### Task 2 : Get Info Box for All Movies"
   ],
   "cell_type": "markdown",
   "metadata": {}
  },
  {
   "cell_type": "code",
   "execution_count": 6,
   "metadata": {},
   "outputs": [],
   "source": [
    "def get_content_value(row_data):\n",
    "    if row_data.find(\"li\"):\n",
    "        return [li.get_text(\" \",strip=True).replace(\"\\xa0\",\" \") for li in row_data.find_all(\"li\")]\n",
    "    elif row_data.find(\"br\"):\n",
    "        return [text for text in row_data.stripped_strings]\n",
    "    else:\n",
    "        return row_data.get_text(\" \",strip=True).replace(\"\\xa0\",\" \")\n",
    "\n",
    "def clean_tags(soup):\n",
    "    for tag in soup.find_all([\"sup\",\"span\"]):\n",
    "        tag.decompose()\n",
    "\n",
    "def get_info_box(url):\n",
    "\n",
    "    r = requests.get(url)\n",
    "    soup = bs(r.content)\n",
    "    info_box = soup.find(class_='infobox vevent')\n",
    "    info_rows = info_box.find_all('tr')\n",
    "    \n",
    "    clean_tags(soup)\n",
    "    \n",
    "    movie_info = {}\n",
    "    for index, row in enumerate(info_rows):\n",
    "        if index == 0:\n",
    "            movie_info['Title'] = row.find(\"th\").get_text(\" \",strip=True)\n",
    "        else:\n",
    "            header = row.find('th')\n",
    "            if header:\n",
    "                content_key = row.find('th').get_text(\" \",strip=True)\n",
    "                content_value = get_content_value(row.find('td'))\n",
    "                movie_info[content_key] = content_value\n",
    "    return movie_info\n",
    "\n"
   ]
  },
  {
   "cell_type": "code",
   "execution_count": 7,
   "metadata": {},
   "outputs": [
    {
     "output_type": "execute_result",
     "data": {
      "text/plain": [
       "{'Title': 'One Little Indian',\n",
       " 'Directed by': 'Bernard McEveety',\n",
       " 'Produced by': 'Winston Hibler',\n",
       " 'Written by': 'Harry Spalding',\n",
       " 'Starring': ['James Garner',\n",
       "  'Vera Miles',\n",
       "  'Pat Hingle',\n",
       "  'Morgan Woodward',\n",
       "  'Jodie Foster'],\n",
       " 'Music by': 'Jerry Goldsmith',\n",
       " 'Cinematography': 'Charles F. Wheeler',\n",
       " 'Edited by': 'Robert Stafford',\n",
       " 'Production company': 'Walt Disney Productions',\n",
       " 'Distributed by': 'Buena Vista Distribution',\n",
       " 'Release date': ['June 20, 1973'],\n",
       " 'Running time': '90 Minutes',\n",
       " 'Country': 'United States',\n",
       " 'Language': 'English',\n",
       " 'Box office': '$2 million'}"
      ]
     },
     "metadata": {},
     "execution_count": 7
    }
   ],
   "source": [
    "get_info_box(\"https://en.wikipedia.org/wiki/One_Little_Indian_(film)\")"
   ]
  },
  {
   "cell_type": "code",
   "execution_count": 8,
   "metadata": {
    "tags": []
   },
   "outputs": [
    {
     "output_type": "stream",
     "name": "stdout",
     "text": [
      "Zorro the Avenger\n",
      "'NoneType' object has no attribute 'find'\n",
      "The Sign of Zorro\n",
      "'NoneType' object has no attribute 'find'\n",
      "True-Life Adventures\n",
      "'NoneType' object has no attribute 'find_all'\n"
     ]
    }
   ],
   "source": [
    "r = requests.get(\"https://en.wikipedia.org/wiki/List_of_Walt_Disney_Pictures_films\")\n",
    "soup = bs(r.content)\n",
    "movies = soup.select(\".wikitable.sortable i a\")\n",
    "\n",
    "base_path = \"https://en.wikipedia.org/\"\n",
    "\n",
    "movie_info_list = []\n",
    "for index, movie in enumerate(movies):\n",
    "    try:\n",
    "        relative_path = movie['href']\n",
    "        full_path = base_path + relative_path\n",
    "        title = movie['title']\n",
    "\n",
    "        movie_info_list.append(get_info_box(full_path))\n",
    "    except Exception as e:\n",
    "        print(movie.get_text())\n",
    "        print(e)\n"
   ]
  },
  {
   "cell_type": "code",
   "execution_count": 9,
   "metadata": {},
   "outputs": [
    {
     "output_type": "execute_result",
     "data": {
      "text/plain": [
       "443"
      ]
     },
     "metadata": {},
     "execution_count": 9
    }
   ],
   "source": [
    "len(movie_info_list)"
   ]
  },
  {
   "source": [
    "#### Save/Reload Moive Data"
   ],
   "cell_type": "markdown",
   "metadata": {}
  },
  {
   "cell_type": "code",
   "execution_count": 10,
   "metadata": {},
   "outputs": [],
   "source": [
    "import json\n",
    "\n",
    "def save_data(title,data):\n",
    "    with open(title,'w',encoding='utf-8') as f:\n",
    "        json.dump(data, f,ensure_ascii=False,indent=2)\n",
    "\n",
    "def load_data(title):\n",
    "    with open(title, encoding='utf-8') as f:\n",
    "        return json.load(f)\n",
    "        "
   ]
  },
  {
   "cell_type": "code",
   "execution_count": 11,
   "metadata": {},
   "outputs": [],
   "source": [
    "save_data(\"disney_data_clean.json\",movie_info_list)"
   ]
  },
  {
   "source": [
    "#### Task 3 : Clean the Data"
   ],
   "cell_type": "markdown",
   "metadata": {}
  },
  {
   "cell_type": "code",
   "execution_count": 12,
   "metadata": {},
   "outputs": [],
   "source": [
    "movie_info_list = load_data(\"disney_data_clean.json\")"
   ]
  },
  {
   "source": [
    "#### Subtasks\n",
    "- Clean up references [1]   DONE!!\n",
    "- Convert running time into an integer DONE!!\n",
    "- Convert dates into datetime object\n",
    "- Split up the long strings DONE!!\n",
    "- Convert Budget & Box office to numbers DONE!!"
   ],
   "cell_type": "markdown",
   "metadata": {}
  },
  {
   "cell_type": "code",
   "execution_count": 13,
   "metadata": {},
   "outputs": [],
   "source": [
    "# Clean up refernces (remove [1] [2] etc.)\n",
    "# Done clean_tags()"
   ]
  },
  {
   "cell_type": "code",
   "execution_count": 14,
   "metadata": {},
   "outputs": [],
   "source": [
    "# Split up the long strings \n",
    "#  header = row.find('th')\n",
    "#           if header:"
   ]
  },
  {
   "cell_type": "code",
   "execution_count": 15,
   "metadata": {},
   "outputs": [],
   "source": [
    "# Convert running time to integer \n",
    "# minute_to_integer()"
   ]
  },
  {
   "cell_type": "code",
   "execution_count": 16,
   "metadata": {},
   "outputs": [],
   "source": [
    "#print([movie.get('Running time','N/A') for movie in movie_info_list])"
   ]
  },
  {
   "cell_type": "code",
   "execution_count": 17,
   "metadata": {},
   "outputs": [],
   "source": [
    "def minute_to_integer(running_time):\n",
    "    if running_time == \"N/A\":\n",
    "        return None\n",
    "    if isinstance(running_time, list):\n",
    "        return int(running_time[0].split(\" \")[0])\n",
    "    else:\n",
    "        return int(running_time.split(\" \")[0])\n",
    "    \n",
    "\n",
    "for movie in movie_info_list:\n",
    "    movie['Running time (int)'] = minute_to_integer(movie.get('Running time','N/A'))"
   ]
  },
  {
   "cell_type": "code",
   "execution_count": 18,
   "metadata": {
    "tags": []
   },
   "outputs": [],
   "source": [
    "#print([movie.get('Running time (int)','N/A') for movie in movie_info_list])"
   ]
  },
  {
   "cell_type": "code",
   "execution_count": 19,
   "metadata": {},
   "outputs": [],
   "source": [
    "#print([movie.get(\"Title\") for movie in movie_info_list])"
   ]
  },
  {
   "cell_type": "code",
   "execution_count": 20,
   "metadata": {},
   "outputs": [],
   "source": [
    "import re\n",
    "\n",
    "amounts = r\"thousand|million|billion\"\n",
    "number = r\"\\d+(,\\d{3})*\\.*\\d*\"\n",
    "value_re = rf\"\\${number}\"\n",
    "word_re = rf\"\\${number}(-|\\sto\\s|-)?({number})?\\s({amounts})\"#\\s => space"
   ]
  },
  {
   "cell_type": "code",
   "execution_count": 21,
   "metadata": {},
   "outputs": [],
   "source": [
    "def parse_value_syntax(string):\n",
    "    value_string = re.search(number,string).group()\n",
    "    value = float(value_string.replace(\",\",\"\"))\n",
    "    return value"
   ]
  },
  {
   "cell_type": "code",
   "execution_count": 22,
   "metadata": {},
   "outputs": [],
   "source": [
    "def word_to_value(word):\n",
    "    value_dict = {\"thousand\": 1000,\"million\":1000000,\"billion\":1000000000}\n",
    "    return value_dict[word]"
   ]
  },
  {
   "cell_type": "code",
   "execution_count": 23,
   "metadata": {},
   "outputs": [],
   "source": [
    "def parse_word_syntax(string):\n",
    "    value_string = re.search(number,string).group()\n",
    "    value = float(value_string.replace(',',\"\"))\n",
    "    word = re.search(amounts,string,flags=re.I).group().lower()\n",
    "    word_value = word_to_value(word)\n",
    "    return value*word_value"
   ]
  },
  {
   "cell_type": "code",
   "execution_count": 24,
   "metadata": {},
   "outputs": [],
   "source": [
    "def money_conversion(money):\n",
    "    if money == \"N/A\":\n",
    "        return None\n",
    "    if isinstance(money,list):\n",
    "        money = money[0]\n",
    "\n",
    "    word_sytnax = re.search(word_re,money,flags=re.I)\n",
    "    value_syntax = re.search(value_re,money) \n",
    "\n",
    "    if word_sytnax:\n",
    "        return parse_word_syntax(word_sytnax.group())\n",
    "\n",
    "    elif value_syntax:\n",
    "        return parse_value_syntax(value_syntax.group())"
   ]
  },
  {
   "cell_type": "code",
   "execution_count": 25,
   "metadata": {},
   "outputs": [
    {
     "output_type": "stream",
     "name": "stdout",
     "text": [
      "790000000.0\n"
     ]
    },
    {
     "output_type": "execute_result",
     "data": {
      "text/plain": [
       "133400000.0"
      ]
     },
     "metadata": {},
     "execution_count": 25
    }
   ],
   "source": [
    "print(money_conversion(\"$790 Millions\"))\n",
    "money_conversion(movie_info_list[-40]['Box office'])"
   ]
  },
  {
   "cell_type": "code",
   "execution_count": 26,
   "metadata": {},
   "outputs": [],
   "source": [
    "for movie in movie_info_list:\n",
    "    movie['Budget (float)'] = money_conversion(movie.get('Budget','N/A'))\n",
    "    movie['Box office (float)'] = money_conversion(movie.get('Box office','N/A'))"
   ]
  },
  {
   "cell_type": "code",
   "execution_count": 27,
   "metadata": {},
   "outputs": [
    {
     "output_type": "execute_result",
     "data": {
      "text/plain": [
       "{'Title': 'Snow White and the Seven Dwarfs',\n",
       " 'Directed by': ['David Hand (supervising)',\n",
       "  'William Cottrell',\n",
       "  'Wilfred Jackson',\n",
       "  'Larry Morey',\n",
       "  'Perce Pearce',\n",
       "  'Ben Sharpsteen'],\n",
       " 'Produced by': 'Walt Disney',\n",
       " 'Written by': ['Ted Sears',\n",
       "  'Richard Creedon',\n",
       "  'Otto Englander',\n",
       "  'Dick Rickard',\n",
       "  'Earl Hurd',\n",
       "  'Merrill De Maris',\n",
       "  'Dorothy Ann Blank',\n",
       "  'Webb Smith'],\n",
       " 'Based on': ['Snow White', 'by The', 'Brothers Grimm'],\n",
       " 'Starring': ['Adriana Caselotti',\n",
       "  'Lucille La Verne',\n",
       "  'Harry Stockwell',\n",
       "  'Roy Atwell',\n",
       "  'Pinto Colvig',\n",
       "  'Otis Harlan',\n",
       "  'Scotty Mattraw',\n",
       "  'Billy Gilbert',\n",
       "  'Eddie Collins',\n",
       "  'Moroni Olsen',\n",
       "  'Stuart Buchanan'],\n",
       " 'Music by': ['Frank Churchill', 'Paul Smith', 'Leigh Harline'],\n",
       " 'Production company': 'Walt Disney Productions',\n",
       " 'Distributed by': 'RKO Radio Pictures',\n",
       " 'Release date': ['December 21, 1937 ( Carthay Circle Theatre , Los Angeles , CA )',\n",
       "  'February 4, 1938 (United States)'],\n",
       " 'Running time': '83 minutes',\n",
       " 'Country': 'United States',\n",
       " 'Language': 'English',\n",
       " 'Budget': '$1.49 million',\n",
       " 'Box office': '$418 million',\n",
       " 'Running time (int)': 83,\n",
       " 'Budget (float)': 1490000.0,\n",
       " 'Box office (float)': 418000000.0}"
      ]
     },
     "metadata": {},
     "execution_count": 27
    }
   ],
   "source": [
    "movie_info_list[1]"
   ]
  },
  {
   "cell_type": "code",
   "execution_count": null,
   "metadata": {},
   "outputs": [],
   "source": []
  },
  {
   "cell_type": "code",
   "execution_count": 28,
   "metadata": {},
   "outputs": [
    {
     "output_type": "stream",
     "name": "stdout",
     "text": [
      "[['May 19, 1937']]\n[['December 21, 1937 ( Carthay Circle Theatre , Los Angeles , CA )', 'February 4, 1938 (United States)']]\n[['February 7, 1940 ( Center Theatre )', 'February 23, 1940 (United States)']]\n[['November 13, 1940']]\n[['June 20, 1941']]\n[['October 23, 1941 (New York City)', 'October 31, 1941 (U.S.)']]\n[['August 9, 1942 (World Premiere-London)', 'August 13, 1942 (Premiere-New York City)', 'August 21, 1942 (U.S.)']]\n[['August 24, 1942 (World Premiere-Rio de Janeiro)', 'February 6, 1943 (U.S. Premiere-Boston)', 'February 19, 1943 (U.S.)']]\n[['July 17, 1943']]\n[['December 21, 1944 (Mexico City)', 'February 3, 1945 (US)']]\n[['April 20, 1946 (New York City premiere)', 'August 15, 1946 (U.S.)']]\n[['November 12, 1946 (Premiere: Atlanta, Georgia)', 'November 20, 1946']]\n[['September 27, 1947']]\n['May 27, 1948']\n[['November 29, 1948 (Chicago, Illinois)', 'January 19, 1949 (Indianapolis, Indiana)']]\n[['October 5, 1949']]\n[['February 15, 1950 (Boston)', 'March 4, 1950 (United States)']]\n[['June 22, 1950 (World Premiere- London )', 'July 29, 1950 ( US )']]\n[['July 26, 1951 (London, premiere)', 'July 28, 1951 (New York City, premiere)']]\n[['March 13, 1952 (Premiere- London )', 'June 26, 1952 ( US )']]\n[['February 5, 1953 (United States)']]\n[['August 8, 1953 ( US )']]\n['November 10, 1953']\n[['26 October 1953 (Premiere- London )', '4 February 1954 ( US )']]\n[['August 17, 1954']]\n[['December 23, 1954']]\n['May 25, 1955']\n[['June 22, 1955']]\n[['September 14, 1955']]\n['December 22, 1955']\n['June 8, 1956']\n['July 18, 1956']\n[['November 6, 1956']]\n[['December 20, 1956']]\n['June 19, 1957']\n['August 28, 1957']\n[['December 25, 1957']]\n[['July 9, 1958']]\n[['August 12, 1958']]\n[['December 25, 1958']]\n[['January 29, 1959']]\n[['March 19, 1959']]\n[['June 24, 1959 (Dublin)', 'June 26, 1959 (Los Angeles)']]\n[['November 10, 1959']]\n['January 21, 1960 ( Sarasota, FL )']\n[['February 24, 1960']]\n['May 19, 1960']\n[['August 10, 1960']]\n[['November 1, 1960']]\n[['December 21, 1960']]\n[['January 25, 1961']]\n['March 16, 1961']\n[['June 21, 1961']]\n[['July 12, 1961']]\n[['July 17, 1961']]\n[['December 14, 1961']]\n['April 5, 1962']\n[['May 17, 1962']]\n[['June 6, 1962']]\n['September 26, 1962']\n[['November 7, 1962 (Los Angeles)']]\n[['November 14, 1962 (London, premiere)', 'December 19, 1962 (US)']]\n[['January 16, 1963']]\n[['March 29, 1963 (U.S.)']]\n['June 1, 1963']\n[['July 7, 1963']]\n['November 20, 1963']\n[['December 25, 1963']]\n['March 12, 1964']\n[['February 11, 1964 (Los Angeles)']]\n[['11\\xa0December\\xa01963', '(', 'New York City, New York', ')', '4\\xa0June\\xa01964', '(United States)']]\n[['July 2, 1964']]\n[['August 27, 1964']]\n[['December 18, 1964']]\n[['January 28, 1965', '(', 'Atlanta, Georgia', 'Premiere)']]\n[['August 18, 1965 (Los Angeles)']]\n[['December 2, 1965']]\n[['February\\xa04,\\xa01966', '(premiere)', 'February\\xa016,\\xa01966']]\n[['June 25, 1966 (San Diego)', 'June 29, 1966 (U.S.)']]\n['October 1, 1966']\n[['December 1, 1966']]\n[['February 8, 1967 (San Francisco)']]\n[['March 8, 1967 (United States)']]\n[['July 12, 1967']]\n[['October 18, 1967']]\n[['October 18, 1967']]\n[['June 23, 1967', 'November 30, 1967']]\n[['February 8, 1968']]\n[['March 21, 1968 ( Radio City Music Hall )']]\n[['June 26, 1968']]\n[['December 20, 1968']]\n[['December 24, 1968 (limited)', 'March 13, 1969 (wide)']]\n[['March 21, 1969']]\n['June 11, 1969']\n[['December 31, 1969']]\n[['February 11, 1970']]\n['July 1, 1970']\n[['December 15, 1970 (original release)', 'January 20, 1971']]\n[['December 11, 1970 (premiere)', 'December 24, 1970 (United States)']]\n['March 17, 1971']\n['June 22, 1971']\n[['June 30, 1971']]\n[['October 7, 1971 (United Kingdom)', 'December 13, 1971 (United States)']]\n[['March 22, 1972 (US)']]\n['July 12, 1972']\n[['July 5, 1972']]\n[['October 18, 1972']]\n[['December 22, 1972']]\n['February 1, 1973']\n[['March 23, 1973']]\n[['June 20, 1973']]\n[['November 8, 1973']]\n[['December 14, 1973']]\n[['June 6, 1974']]\n[['July 31, 1974']]\n[['August 1, 1974']]\n['December 20, 1974 (with Winnie the Pooh and Tigger Too )']\n[['February 6, 1975']]\n[['March 21, 1975 (U.S.)']]\n[['July 24, 1975']]\n[['July 9, 1975']]\n[['October 8, 1975']]\n['December 25, 1975']\n[['February 11, 1976 (Los Angeles)']]\n[['July 1, 1976']]\n[['July 7, 1976']]\n[['December 17, 1976']]\n[['December 17, 1976']]\n[['May 26, 1976', '(UK)', 'March 11, 1977', '(US)']]\n[['March 11, 1977']]\n[['June 22, 1977']]\n[['June 22, 1977']]\n[['June 24, 1977']]\n[['November 3, 1977']]\n['December 16, 1977']\n[['March 10, 1978']]\n[['June 30, 1978 (New York)']]\n['July 5, 1978']\n['February 9, 1979']\n[['June 27, 1979']]\n[['July 19, 1979 (London)', 'August 3, 1979 (Los Angeles)']]\n[['December 18, 1979 (United Kingdom)', 'December 21, 1979 (United States)']]\n['December 21, 1979']\n[['February 8, 1980']]\n[['April 17, 1980 (New York City)', 'October 9, 1981 (U.S.)']]\n[['June 27, 1980']]\n[['July 9, 1980 (Los Angeles)']]\n[['December 6, 1980']]\n['February 11, 1981 (Los Angeles)']\n['March 20, 1981']\n[['June 26, 1981']]\n[['July 10, 1981']]\n[['August 7, 1981']]\n['February 5, 1982']\n[['July 9, 1982']]\n['July 30, 1982']\n[['March 11, 1983']]\n[['April 29, 1983 (United States)']]\n[['October 7, 1983 (limited)', 'January 27, 1984']]\n[['June 21, 1985 (United States)']]\n[['July 26, 1985']]\n[['September 27, 1985']]\n[['November 22, 1985']]\n[['July 2, 1986']]\n[['August 1, 1986']]\n[['June 5, 1987']]\n[['24 March 1988 (Australia)', '15 April 1988 (United States)']]\n[['November 18, 1988']]\n[['June 23, 1989']]\n['August 18, 1989']\n[['November 17, 1989']]\n[['August 3, 1990']]\n[['November 16, 1990']]\n[['January 18, 1991']]\n[['3 October 1990']]\n[['May 24, 1991']]\n[['June 21, 1991']]\n[['September 29, 1991 ( NYFF )', 'November 22, 1991 (United States)']]\n[['April 10, 1992']]\n[['July 17, 1992']]\n[['October 2, 1992']]\n[['November 25, 1992']]\n[['December 11, 1992']]\n['February 3, 1993']\n[['March 12, 1993']]\n[['April 2, 1993']]\n[['July 16, 1993']]\n[['October 1, 1993']]\n[['November 12, 1993']]\n[['January 14, 1994']]\n[['February 11, 1994']]\n[['March 25, 1994']]\n[['April 15, 1994']]\n[['June 15, 1994 (United States)']]\n[['July 15, 1994']]\n[['October 28, 1994']]\n[['November 11, 1994']]\n[['December 25, 1994']]\n[['February 17, 1995']]\n[['March 3, 1995']]\n[['March 24, 1995']]\n[['April 7, 1995']]\n[['June 23, 1995']]\n[['July 28, 1995']]\n[['August 11, 1995']]\n[['September 29, 1995']]\n[['January 22, 1995 ( Sundance Film Festival )', 'October 20, 1995 (U.S.)']]\n[['November 19, 1995 ( El Capitan Theatre )', 'November 22, 1995 (United States)']]\n[['December 22, 1995']]\n[['February 16, 1996']]\n[['March 8, 1996']]\n[['April 12, 1996 (United States)', 'August 2, 1996 (United Kingdom)']]\n[['June 21, 1996']]\n[['August 30, 1996']]\n[['October 4, 1996']]\n[['November 27, 1996']]\n[['February 14, 1997']]\n[['March 7, 1997 (US)', 'August 5, 1997 (France)']]\n[['June 13, 1997 (limited release)', 'June 27, 1997 (wide release)']]\n[['July 16, 1997']]\n['August 1, 1997']\n[['October 10, 1997']]\n[['November 16, 1997 ( Pennsylvania )', 'November 26, 1997 (United States)']]\n[['December 25, 1997']]\n[['March 27, 1998 (United States)']]\n[['June 19, 1998']]\n[['July 29, 1998 (United States)']]\n[['November 13, 1998']]\n[['November 20, 1998']]\n[['December 25, 1998']]\n[['February 12, 1999']]\n[['March 26, 1999']]\n[['February 5, 1999']]\n[['June 12, 1999 ( El Capitan Theatre )', 'June 16, 1999 (United States )']]\n[['July 23, 1999']]\n[['May 1999 ( Cannes )', 'October 15, 1999 (United States)']]\n[['November 13, 1999 ( El Capitan Theatre )', 'November 24, 1999 (United States)']]\n[['December 17, 1999 ( Carnegie Hall )', 'January 1, 2000 ( IMAX )', 'June 16, 2000 (United States)']]\n[['February 11, 2000 (United States)']]\n[['May 19, 2000 (United States)']]\n[['July 7, 2000']]\n[['September 29, 2000']]\n[['November 22, 2000']]\n[['December 15, 2000']]\n[['February 10, 2001 (premiere)', 'February 16, 2001 (United States)']]\n[['June 3, 2001 (Premiere)', 'June 15, 2001 (United States)']]\n[['August 3, 2001']]\n[['October 5, 2001']]\n[['October 28, 2001 ( El Capitan Theatre )', 'November 2, 2001 (United States)']]\n[['January 18, 2002']]\n[['February 10, 2002 ( New York City )', 'February 15, 2002 (United States)']]\n[['March 29, 2002']]\n[['June 21, 2002']]\n[['July 21, 2002', 'July 26, 2002']]\n[['July 20, 2001']]\n[['October 11, 2002 (U.S.)']]\n[['November 1, 2002 (United States)']]\n[['November 27, 2002']]\n[['February 14, 2003']]\n[['March 16, 2003 (premiere)', 'March 21, 2003 (United States)', 'July 2, 2003 ( Manila , Philippines )']]\n[['March 31, 2003 (premiere)', 'April 11, 2003 (limited)']]\n[['April 18, 2003 (United States)']]\n[['May 2, 2003 (United States)']]\n[['May 30, 2003']]\n[['June 28, 2003 ( Disneyland Resort )', 'July 9, 2003 (United States)']]\n[['August 4, 2003 ( Los Angeles )', 'August 6, 2003 (United States)']]\n[['November 1, 2003']]\n[['November 26, 2003']]\n[['December 25, 2003']]\n[['January 16, 2004']]\n[['February 6, 2004']]\n[['February 20, 2004 (United States)']]\n[['April 2, 2004']]\n[['April 22, 2004']]\n[['June 13, 2004 (Los Angeles, California)', 'June 16, 2004 (United States)']]\n[['July 2, 2004']]\n[['August 11, 2004']]\n[['October 27, 2004 ( BFI London Film Festival )', 'November 5, 2004 (United States)']]\n[['November 19, 2004']]\n[['January 28, 2005']]\n[['February 11, 2005']]\n[['March 4, 2005']]\n[['March 18, 2005']]\n[['June 22, 2005']]\n[['5 September 2004 ( Venice )', '20 November 2004 (Japan)']]\n[['July 29, 2005']]\n[['March 25, 2005 (UK)', 'August 19, 2005 (US)']]\n[['September 30, 2005']]\n[['October 30, 2005 ( El Capitan Theatre )', 'November 4, 2005 (United States)']]\n[['December 7, 2005 ( Royal Film Performance )', 'December 8, 2005 (United Kingdom)', 'December 9, 2005 (United States)']]\n['January 13, 2006']\n[['January 27, 2006']]\n[['February 17, 2006 (United States)']]\n[['March 10, 2006']]\n[['April 14, 2006']]\n[[\"May 26, 2006 ( Lowe's Motor Speedway )\", 'June 9, 2006 (United States)']]\n[['June 24, 2006 ( Disneyland Resort )', 'July 7, 2006 (United States)']]\n[['August 25, 2006']]\n[['October 29, 1993']]\n[['November 3, 2006']]\n[['February 16, 2007']]\n[['March 23, 2007 (US)', 'March 30, 2007 (UK)']]\n[['May 19, 2007 ( Disneyland Resort )', 'May 25, 2007 (United States)']]\n[['June 22, 2007 ( Kodak Theatre )', 'June 29, 2007 (United States)']]\n[['August 3, 2007']]\n[['August 28, 2007']]\n[['September 23, 2007 ( Hollywood )', 'September 28, 2007 (United States)']]\n[['October 20, 2007 ( London )', 'November 21, 2007 (United States)']]\n[['December 21, 2007']]\n['February 1, 2008']\n[['March 7, 2008']]\n[['May 7, 2008 ( New York City )', 'May 16, 2008 (United States)', 'June 26, 2008 (United Kingdom)']]\n[['June 23, 2008 ( Los Angeles )', 'June 27, 2008 (United States)']]\n[['October 3, 2008 (United States)']]\n['October 17, 2008']\n[['October 17, 2008 (London)', 'October 24, 2008 (United States)']]\n[['November 21, 2008']]\n[['December 25, 2008']]\n[['February 27, 2009']]\n[['March 11, 2009 (Egypt)', 'March 13, 2009 (United States)']]\n[['April 10, 2009']]\n[['October 10, 2007 (France)', 'November 16, 2007 (United Kingdom)', 'January 12, 2008 (Germany)', 'April 22, 2009 (United States)']]\n[['May 29, 2009']]\n['N/A']\n[['July 24, 2009']]\n[['July 19, 2008']]\n[['2008']]\n[['2009']]\n[['November 3, 2009 ( London )', 'November 6, 2009 (United States)']]\n[['November 25, 2009']]\n[['November 25, 2009 (Los Angeles premiere)', 'December 11, 2009 (United States)']]\n[['February 25, 2010 ( Odeon Leicester Square )', 'March 5, 2010 (United States)']]\n[['October 17, 2009 ( Tokyo International Film Festival )', 'January 24, 2010 (France)']]\n[['May 9, 2010 (London premiere)', 'May 28, 2010 (United States)']]\n[['June 12, 2010 ( Taormina Film Fest )', 'June 18, 2010 (United States)']]\n[['July 8, 2010 (Fantasia Film Festival)', 'July 14, 2010']]\n[['July 29, 2006']]\n[['26 October 2008 ( France )', '29 September 2009 ( United Kingdom )']]\n[['September 30, 2010 ( Hollywood )', 'October 8, 2010 (United States)']]\n[['8 October 2010']]\n[['November 14, 2010 ( El Capitan Theatre )', 'November 24, 2010 (United States)']]\n[['April 24, 2009 (San Francisco International Film Festival)', 'May 22, 2009 (United States)']]\n[['November 30, 2010 (Tokyo)', 'December 17, 2010 (United States)']]\n[['14 January 2011 (India)']]\n[['17 February 2011']]\n[['March 11, 2011']]\n[['22 April 2011']]\n[['April 22, 2011 (United States)', 'February 1, 2012 (France)', 'April 27, 2012 (United Kingdom)']]\n[['April 29, 2011']]\n[['May 7, 2011 ( Disneyland Resort )', 'May 20, 2011 (United States)']]\n[['June 18, 2011 (Hollywood)', 'June 24, 2011 (United States)']]\n[['April 6, 2011 (Belgium)', 'July 15, 2011 (United States)']]\n[['November 4, 2011 (Savannah Film Festival)', 'November 23, 2011 (United States)']]\n[['17 July 2010']]\n[['February 22, 2012 ( Los Angeles )', 'March 9, 2012 (United States)']]\n[['April 20, 2012 (United States)', 'February 20, 2013 (France)', 'May 3, 2013 (United Kingdom)']]\n[['25 May 2012']]\n[['June 10, 2012 ( SIFF )', 'June 22, 2012 (United States)']]\n[['August 15, 2012']]\n[['September 20, 2012 (Fantastic Fest)', 'October 5, 2012 (United States)']]\n[['October 29, 2012 ( El Capitan Theatre )', 'November 2, 2012 (United States)']]\n[['February 14, 2013 ( El Capitan Theatre )', 'March 8, 2013 (United States)']]\n[['16 March 2011 (France)', '16 April 2013 (United States)']]\n[['June 5, 2013 ( BFI Southbank )', 'June 21, 2013 (United States)']]\n[['June 22, 2013 ( Hyperion Theatre )', 'July 3, 2013 (United States)']]\n[['August 2, 2013 ( EAA AirVenture Oshkosh )', 'August 9, 2013']]\n[['November 19, 2013 ( El Capitan Theatre )', 'November 22, 2013 (United States)']]\n[['October 20, 2013 ( BFI London Film Festival )', 'November 29, 2013 (United States)', 'December 13, 2013 (United Kingdom)', 'January 9, 2014 (Australia)']]\n[['March 11, 2014 ( El Capitan Theatre )', 'March 21, 2014 (United States)']]\n[['April 18, 2014 (United States)']]\n[['May 6, 2014 ( El Capitan Theatre )', 'May 16, 2014 (United States)']]\n[['May 28, 2014 ( El Capitan Theatre )', 'May 30, 2014 (United States)']]\n[['July 15, 2014 ( El Capitan Theatre )', 'July 18, 2014 (United States)']]\n[['19 September 2014']]\n[['October 6, 2014 ( El Capitan Theatre )', 'October 10, 2014 (United States)']]\n[['October 23, 2014 ( Tokyo International Film Festival )', 'November 7, 2014 (United States)']]\n[['December 8, 2014 ( Ziegfeld Theatre )', 'December 25, 2014 (United States)']]\n[['February 9, 2015 ( Hollywood )', 'February 20, 2015 (United States)']]\n[['February 13, 2015 ( Berlin )', 'March 13, 2015 (United States)', 'March 27, 2015 (United Kingdom)']]\n[['April 17, 2015 (United States)']]\n[['May 9, 2015 ( Disneyland )', 'May 22, 2015 (United States)']]\n[['May 18, 2015 ( Cannes )', 'June 19, 2015 (United States)']]\n[['19 June 2015']]\n[['November 10, 2015 ( Paris )', 'November 25, 2015 (United States)']]\n[['January 25, 2016 ( TCL Chinese Theatre )', 'January 29, 2016 (United States)']]\n[['February 13, 2016 (Belgium)', 'March 4, 2016 (United States)']]\n[['April 4, 2016 ( El Capitan Theatre )', 'April 15, 2016 (United States)']]\n[['April 23, 2016 (Amsterdam)', 'May 6, 2016 (Spain)', 'May 12, 2016 (Italy)']]\n[['May 10, 2016 ( London )', 'May 27, 2016 (United States)']]\n[['June 8, 2016 ( El Capitan Theatre )', 'June 17, 2016 (United States)']]\n[['May 14, 2016 ( Cannes )', 'July 1, 2016 (United States)']]\n[['August 8, 2016 ( El Capitan Theatre )', 'August 12, 2016 (United States)']]\n[['September 10, 2016 ( TIFF )', 'September 23, 2016 (United States)']]\n[['November 14, 2016 ( AFI Fest )', 'November 23, 2016 (United States)']]\n[['21 December 2016 (United States)', '23 December 2016 (India)']]\n[['26 January 2005']]\n[['February 23, 2017 ( Spencer House )', 'March 17, 2017 (United States)']]\n[['August 12, 2016 (China)', 'April 21, 2017 (United States)', 'August 23, 2017 (France)']]\n[['May 11, 2017 ( Shanghai )', 'May 26, 2017 (United States)']]\n[['May 23, 2017 ( Kannapolis )', 'June 16, 2017 (United States)']]\n[['June 30, 2017 (United States)']]\n[['14 July 2017']]\n[['October 20, 2017 ( Morelia )', 'November 22, 2017 (United States)']]\n[['February 26, 2018 ( El Capitan Theatre )', 'March 9, 2018 (United States)']]\n[['June 5, 2018 ( Los Angeles )', 'June 15, 2018 (United States)']]\n[['July 30, 2018 ( Burbank )', 'August 3, 2018 (United States)']]\n[['October 29, 2018 ( Dolby Theatre )', 'November 2, 2018 (United States)']]\n[['November 5, 2018 ( El Capitan Theatre )', 'November 21, 2018 (United States)']]\n[['November 29, 2018 ( Dolby Theatre )', 'December 19, 2018 (United States)']]\n[['March 11, 2019 ( Los Angeles )', 'March 29, 2019 (United States)']]\n[['April 17, 2019 (United States)']]\n[['May 8, 2019 ( Grand Rex )', 'May 24, 2019 (United States)']]\n[['June 11, 2019 ( El Capitan Theatre )', 'June 21, 2019 (United States)']]\n[['July 9, 2019 ( Hollywood )', 'July 19, 2019 (United States)']]\n[['October 18, 2019']]\n[['November 12, 2019 (United States)']]\n[['November 12, 2019 (United States)']]\n[['November 7, 2019 ( Dolby Theatre )', 'November 22, 2019 (United States)']]\n[['December 20, 2019 (United States)']]\n[['January 25, 2020 ( Sundance )', 'February 7, 2020 ( Disney+ )']]\n[['February 21, 2020 ( Berlinale )', 'March 6, 2020 (United States)']]\n[['March 13, 2020 (United States)']]\n[['March 28, 2018 (France)', 'April 3, 2020 ( Disney+ )']]\n[['April 3, 2020']]\n[['June 12, 2020']]\n[['July 3, 2020']]\n[['July 31, 2020']]\n[['August 14, 2020']]\n[['August 21, 2020 (United States)']]\n[['March 9, 2020 ( Hollywood )', 'September 4, 2020 (United States)']]\n[['December 4, 2020 (United States)']]\n[['December 11, 2020 (United States)']]\n[['October 11, 2020 ( BFI London Film Festival )', 'December 25, 2020 (United States)']]\n[['March 12, 2021']]\n[['May 28, 2021']]\n[['June 18, 2021']]\n[['July 30, 2021 (United States)']]\n[['27 August 2021']]\n['N/A']\n[['February 5, 1953 (United States)']]\n['N/A']\n['N/A']\n['N/A']\n"
     ]
    }
   ],
   "source": [
    "#Convert dates to datetime format\n",
    "for movie in movie_info_list:\n",
    "    print([movie.get('Release date','N/A')])"
   ]
  },
  {
   "cell_type": "code",
   "execution_count": 29,
   "metadata": {},
   "outputs": [],
   "source": [
    "# June 28,1950\n",
    "from datetime import datetime\n",
    "\n",
    "dates = [movie.get('Release date','N/A') for movie in movie_info_list]\n",
    "\n",
    "def clean_date(date):\n",
    "    return date.split(\"(\")[0].strip()\n",
    "\n",
    "def date_conversion(date):\n",
    "    if isinstance(date,list):\n",
    "        date = date[0]\n",
    "\n",
    "    if date == \"N/A\":\n",
    "        return None\n",
    "    \n",
    "    date_str = clean_date(date)\n",
    "   \n",
    "    formats = [\"%B %d, %Y\",\"%d %B %Y\"]\n",
    "    for format in formats:\n",
    "        try:\n",
    "            return datetime.strptime(date_str,format)\n",
    "        except:\n",
    "            pass\n",
    "    return None\n",
    "\n",
    "    "
   ]
  },
  {
   "cell_type": "code",
   "execution_count": 30,
   "metadata": {},
   "outputs": [
    {
     "output_type": "execute_result",
     "data": {
      "text/plain": [
       "{'Title': 'Snow White and the Seven Dwarfs',\n",
       " 'Directed by': ['David Hand (supervising)',\n",
       "  'William Cottrell',\n",
       "  'Wilfred Jackson',\n",
       "  'Larry Morey',\n",
       "  'Perce Pearce',\n",
       "  'Ben Sharpsteen'],\n",
       " 'Produced by': 'Walt Disney',\n",
       " 'Written by': ['Ted Sears',\n",
       "  'Richard Creedon',\n",
       "  'Otto Englander',\n",
       "  'Dick Rickard',\n",
       "  'Earl Hurd',\n",
       "  'Merrill De Maris',\n",
       "  'Dorothy Ann Blank',\n",
       "  'Webb Smith'],\n",
       " 'Based on': ['Snow White', 'by The', 'Brothers Grimm'],\n",
       " 'Starring': ['Adriana Caselotti',\n",
       "  'Lucille La Verne',\n",
       "  'Harry Stockwell',\n",
       "  'Roy Atwell',\n",
       "  'Pinto Colvig',\n",
       "  'Otis Harlan',\n",
       "  'Scotty Mattraw',\n",
       "  'Billy Gilbert',\n",
       "  'Eddie Collins',\n",
       "  'Moroni Olsen',\n",
       "  'Stuart Buchanan'],\n",
       " 'Music by': ['Frank Churchill', 'Paul Smith', 'Leigh Harline'],\n",
       " 'Production company': 'Walt Disney Productions',\n",
       " 'Distributed by': 'RKO Radio Pictures',\n",
       " 'Release date': ['December 21, 1937 ( Carthay Circle Theatre , Los Angeles , CA )',\n",
       "  'February 4, 1938 (United States)'],\n",
       " 'Running time': '83 minutes',\n",
       " 'Country': 'United States',\n",
       " 'Language': 'English',\n",
       " 'Budget': '$1.49 million',\n",
       " 'Box office': '$418 million',\n",
       " 'Running time (int)': 83,\n",
       " 'Budget (float)': 1490000.0,\n",
       " 'Box office (float)': 418000000.0,\n",
       " 'Release date (datetime)': datetime.datetime(1937, 12, 21, 0, 0)}"
      ]
     },
     "metadata": {},
     "execution_count": 30
    }
   ],
   "source": [
    "for movie in movie_info_list:\n",
    "    movie['Release date (datetime)'] = date_conversion(movie.get('Release date','N/A'))\n",
    "\n",
    "movie_info_list[1]\n"
   ]
  },
  {
   "cell_type": "code",
   "execution_count": 31,
   "metadata": {},
   "outputs": [],
   "source": [
    "import pickle\n",
    "def save_data_pickle(name,data):\n",
    "    with open('disney_movie_data-cleaned.pickle','wb') as f:\n",
    "        pickle.dump(data,f)\n"
   ]
  },
  {
   "cell_type": "code",
   "execution_count": 32,
   "metadata": {},
   "outputs": [],
   "source": [
    "def load_data_pickle(name):\n",
    "    with open(name,'rb') as f:\n",
    "        return pickle.load(f)"
   ]
  },
  {
   "cell_type": "code",
   "execution_count": 33,
   "metadata": {},
   "outputs": [],
   "source": [
    "save_data_pickle('disney_movie_data-cleaned.pickle',movie_info_list)"
   ]
  },
  {
   "cell_type": "code",
   "execution_count": 34,
   "metadata": {},
   "outputs": [],
   "source": [
    "#a = load_data_pickle('disney_movie_data-cleaned.pickle')\n",
    "movie_info_list = load_data_pickle('disney_movie_data-cleaned.pickle')"
   ]
  },
  {
   "source": [
    "### Task 4 : Save data s JSON & CSV"
   ],
   "cell_type": "markdown",
   "metadata": {}
  },
  {
   "cell_type": "code",
   "execution_count": 35,
   "metadata": {},
   "outputs": [],
   "source": [
    " movie_info_copy = [movie.copy() for movie in movie_info_list] "
   ]
  },
  {
   "cell_type": "code",
   "execution_count": 36,
   "metadata": {},
   "outputs": [],
   "source": [
    " for movie in movie_info_copy:\n",
    "    current_date = movie['Release date (datetime)']\n",
    "    if current_date:\n",
    "        movie['Release date (datetime)'] = current_date.strftime(\"%B %d, %Y\")\n",
    "    else:\n",
    "        movie['Release date (datetime)'] = None\n"
   ]
  },
  {
   "cell_type": "code",
   "execution_count": 1,
   "metadata": {},
   "outputs": [
    {
     "output_type": "error",
     "ename": "NameError",
     "evalue": "name 'movie_info_list' is not defined",
     "traceback": [
      "\u001b[1;31m---------------------------------------------------------------------------\u001b[0m",
      "\u001b[1;31mNameError\u001b[0m                                 Traceback (most recent call last)",
      "\u001b[1;32m<ipython-input-1-be33ab703a69>\u001b[0m in \u001b[0;36m<module>\u001b[1;34m\u001b[0m\n\u001b[0;32m      1\u001b[0m \u001b[1;32mimport\u001b[0m \u001b[0mpandas\u001b[0m \u001b[1;32mas\u001b[0m \u001b[0mpd\u001b[0m\u001b[1;33m\u001b[0m\u001b[1;33m\u001b[0m\u001b[0m\n\u001b[1;32m----> 2\u001b[1;33m \u001b[0mdf\u001b[0m \u001b[1;33m=\u001b[0m \u001b[0mpd\u001b[0m\u001b[1;33m.\u001b[0m\u001b[0mDataFrame\u001b[0m\u001b[1;33m(\u001b[0m\u001b[0mmovie_info_list\u001b[0m\u001b[1;33m)\u001b[0m\u001b[1;33m\u001b[0m\u001b[1;33m\u001b[0m\u001b[0m\n\u001b[0m\u001b[0;32m      3\u001b[0m \u001b[0mdf\u001b[0m\u001b[1;33m.\u001b[0m\u001b[0mto_csv\u001b[0m\u001b[1;33m(\u001b[0m\u001b[1;34m'disney_movie_data_final.csv'\u001b[0m\u001b[1;33m)\u001b[0m\u001b[1;33m\u001b[0m\u001b[1;33m\u001b[0m\u001b[0m\n",
      "\u001b[1;31mNameError\u001b[0m: name 'movie_info_list' is not defined"
     ]
    }
   ],
   "source": [
    "import pandas as pd\n",
    "df = pd.DataFrame(movie_info_list)\n",
    "df.to_csv('disney_movie_data_final.csv')"
   ]
  },
  {
   "cell_type": "code",
   "execution_count": 42,
   "metadata": {},
   "outputs": [
    {
     "output_type": "execute_result",
     "data": {
      "text/plain": [
       "                             Title       Production company  \\\n",
       "0          Academy Award Review of  Walt Disney Productions   \n",
       "1  Snow White and the Seven Dwarfs  Walt Disney Productions   \n",
       "2                        Pinocchio  Walt Disney Productions   \n",
       "3                         Fantasia  Walt Disney Productions   \n",
       "4             The Reluctant Dragon  Walt Disney Productions   \n",
       "\n",
       "                                        Release date  \\\n",
       "0                                     [May 19, 1937]   \n",
       "1  [December 21, 1937 ( Carthay Circle Theatre , ...   \n",
       "2  [February 7, 1940 ( Center Theatre ), February...   \n",
       "3                                [November 13, 1940]   \n",
       "4                                    [June 20, 1941]   \n",
       "\n",
       "                           Running time        Country Language  \\\n",
       "0  41 minutes (74 minutes 1966 release)  United States  English   \n",
       "1                            83 minutes  United States  English   \n",
       "2                            88 minutes  United States  English   \n",
       "3                           126 minutes  United States  English   \n",
       "4                            74 minutes  United States  English   \n",
       "\n",
       "                     Box office  Running time (int)  Budget (float)  \\\n",
       "0                       $45.472                41.0             NaN   \n",
       "1                  $418 million                83.0       1490000.0   \n",
       "2                  $164 million                88.0       2600000.0   \n",
       "3           $76.4–$83.3 million               126.0       2280000.0   \n",
       "4  $960,000 (worldwide rentals)                74.0        600000.0   \n",
       "\n",
       "   Box office (float)  ... Production companies Japanese Hepburn  \\\n",
       "0        4.547200e+01  ...                  NaN      NaN     NaN   \n",
       "1        4.180000e+08  ...                  NaN      NaN     NaN   \n",
       "2        1.640000e+08  ...                  NaN      NaN     NaN   \n",
       "3        8.330000e+07  ...                  NaN      NaN     NaN   \n",
       "4        9.600000e+05  ...                  NaN      NaN     NaN   \n",
       "\n",
       "  Adaptation by Animation by Traditional Simplified Created by Original work  \\\n",
       "0           NaN          NaN         NaN        NaN        NaN           NaN   \n",
       "1           NaN          NaN         NaN        NaN        NaN           NaN   \n",
       "2           NaN          NaN         NaN        NaN        NaN           NaN   \n",
       "3           NaN          NaN         NaN        NaN        NaN           NaN   \n",
       "4           NaN          NaN         NaN        NaN        NaN           NaN   \n",
       "\n",
       "  Owned by  \n",
       "0      NaN  \n",
       "1      NaN  \n",
       "2      NaN  \n",
       "3      NaN  \n",
       "4      NaN  \n",
       "\n",
       "[5 rows x 34 columns]"
      ],
      "text/html": "<div>\n<style scoped>\n    .dataframe tbody tr th:only-of-type {\n        vertical-align: middle;\n    }\n\n    .dataframe tbody tr th {\n        vertical-align: top;\n    }\n\n    .dataframe thead th {\n        text-align: right;\n    }\n</style>\n<table border=\"1\" class=\"dataframe\">\n  <thead>\n    <tr style=\"text-align: right;\">\n      <th></th>\n      <th>Title</th>\n      <th>Production company</th>\n      <th>Release date</th>\n      <th>Running time</th>\n      <th>Country</th>\n      <th>Language</th>\n      <th>Box office</th>\n      <th>Running time (int)</th>\n      <th>Budget (float)</th>\n      <th>Box office (float)</th>\n      <th>...</th>\n      <th>Production companies</th>\n      <th>Japanese</th>\n      <th>Hepburn</th>\n      <th>Adaptation by</th>\n      <th>Animation by</th>\n      <th>Traditional</th>\n      <th>Simplified</th>\n      <th>Created by</th>\n      <th>Original work</th>\n      <th>Owned by</th>\n    </tr>\n  </thead>\n  <tbody>\n    <tr>\n      <th>0</th>\n      <td>Academy Award Review of</td>\n      <td>Walt Disney Productions</td>\n      <td>[May 19, 1937]</td>\n      <td>41 minutes (74 minutes 1966 release)</td>\n      <td>United States</td>\n      <td>English</td>\n      <td>$45.472</td>\n      <td>41.0</td>\n      <td>NaN</td>\n      <td>4.547200e+01</td>\n      <td>...</td>\n      <td>NaN</td>\n      <td>NaN</td>\n      <td>NaN</td>\n      <td>NaN</td>\n      <td>NaN</td>\n      <td>NaN</td>\n      <td>NaN</td>\n      <td>NaN</td>\n      <td>NaN</td>\n      <td>NaN</td>\n    </tr>\n    <tr>\n      <th>1</th>\n      <td>Snow White and the Seven Dwarfs</td>\n      <td>Walt Disney Productions</td>\n      <td>[December 21, 1937 ( Carthay Circle Theatre , ...</td>\n      <td>83 minutes</td>\n      <td>United States</td>\n      <td>English</td>\n      <td>$418 million</td>\n      <td>83.0</td>\n      <td>1490000.0</td>\n      <td>4.180000e+08</td>\n      <td>...</td>\n      <td>NaN</td>\n      <td>NaN</td>\n      <td>NaN</td>\n      <td>NaN</td>\n      <td>NaN</td>\n      <td>NaN</td>\n      <td>NaN</td>\n      <td>NaN</td>\n      <td>NaN</td>\n      <td>NaN</td>\n    </tr>\n    <tr>\n      <th>2</th>\n      <td>Pinocchio</td>\n      <td>Walt Disney Productions</td>\n      <td>[February 7, 1940 ( Center Theatre ), February...</td>\n      <td>88 minutes</td>\n      <td>United States</td>\n      <td>English</td>\n      <td>$164 million</td>\n      <td>88.0</td>\n      <td>2600000.0</td>\n      <td>1.640000e+08</td>\n      <td>...</td>\n      <td>NaN</td>\n      <td>NaN</td>\n      <td>NaN</td>\n      <td>NaN</td>\n      <td>NaN</td>\n      <td>NaN</td>\n      <td>NaN</td>\n      <td>NaN</td>\n      <td>NaN</td>\n      <td>NaN</td>\n    </tr>\n    <tr>\n      <th>3</th>\n      <td>Fantasia</td>\n      <td>Walt Disney Productions</td>\n      <td>[November 13, 1940]</td>\n      <td>126 minutes</td>\n      <td>United States</td>\n      <td>English</td>\n      <td>$76.4–$83.3 million</td>\n      <td>126.0</td>\n      <td>2280000.0</td>\n      <td>8.330000e+07</td>\n      <td>...</td>\n      <td>NaN</td>\n      <td>NaN</td>\n      <td>NaN</td>\n      <td>NaN</td>\n      <td>NaN</td>\n      <td>NaN</td>\n      <td>NaN</td>\n      <td>NaN</td>\n      <td>NaN</td>\n      <td>NaN</td>\n    </tr>\n    <tr>\n      <th>4</th>\n      <td>The Reluctant Dragon</td>\n      <td>Walt Disney Productions</td>\n      <td>[June 20, 1941]</td>\n      <td>74 minutes</td>\n      <td>United States</td>\n      <td>English</td>\n      <td>$960,000 (worldwide rentals)</td>\n      <td>74.0</td>\n      <td>600000.0</td>\n      <td>9.600000e+05</td>\n      <td>...</td>\n      <td>NaN</td>\n      <td>NaN</td>\n      <td>NaN</td>\n      <td>NaN</td>\n      <td>NaN</td>\n      <td>NaN</td>\n      <td>NaN</td>\n      <td>NaN</td>\n      <td>NaN</td>\n      <td>NaN</td>\n    </tr>\n  </tbody>\n</table>\n<p>5 rows × 34 columns</p>\n</div>"
     },
     "metadata": {},
     "execution_count": 42
    }
   ],
   "source": [
    "df.head(5)"
   ]
  },
  {
   "cell_type": "code",
   "execution_count": null,
   "metadata": {},
   "outputs": [],
   "source": []
  }
 ]
}